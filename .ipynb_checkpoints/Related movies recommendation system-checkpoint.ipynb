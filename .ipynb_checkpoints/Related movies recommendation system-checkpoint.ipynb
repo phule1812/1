{
 "cells": [
  {
   "cell_type": "markdown",
   "id": "ce707da5",
   "metadata": {},
   "source": [
    "# Related movies recommendation system"
   ]
  },
  {
   "cell_type": "markdown",
   "id": "fbcb1a4c",
   "metadata": {},
   "source": [
    "## 1. Prepare data for training"
   ]
  },
  {
   "cell_type": "code",
   "execution_count": 1,
   "id": "a242bb01",
   "metadata": {},
   "outputs": [],
   "source": [
    "import pandas as pd\n",
    "import numpy as np\n",
    "import matplotlib.pyplot as plt\n",
    "from sklearn.cluster import KMeans\n",
    "from sklearn import metrics\n",
    "import warnings\n",
    "warnings.filterwarnings('ignore')"
   ]
  },
  {
   "cell_type": "code",
   "execution_count": 2,
   "id": "9c1e32d1",
   "metadata": {},
   "outputs": [],
   "source": [
    "scores = pd.read_csv('data/genome_scores.csv')\n",
    "movie = pd.read_csv('data/movie.csv')\n",
    "rating = pd.read_csv('data/rating.csv')"
   ]
  },
  {
   "cell_type": "code",
   "execution_count": 3,
   "id": "64cea81f",
   "metadata": {
    "scrolled": true
   },
   "outputs": [
    {
     "data": {
      "text/html": [
       "<div>\n",
       "<style scoped>\n",
       "    .dataframe tbody tr th:only-of-type {\n",
       "        vertical-align: middle;\n",
       "    }\n",
       "\n",
       "    .dataframe tbody tr th {\n",
       "        vertical-align: top;\n",
       "    }\n",
       "\n",
       "    .dataframe thead th {\n",
       "        text-align: right;\n",
       "    }\n",
       "</style>\n",
       "<table border=\"1\" class=\"dataframe\">\n",
       "  <thead>\n",
       "    <tr style=\"text-align: right;\">\n",
       "      <th></th>\n",
       "      <th>movieId</th>\n",
       "      <th>tagId</th>\n",
       "      <th>relevance</th>\n",
       "    </tr>\n",
       "  </thead>\n",
       "  <tbody>\n",
       "    <tr>\n",
       "      <th>0</th>\n",
       "      <td>1</td>\n",
       "      <td>1</td>\n",
       "      <td>0.02500</td>\n",
       "    </tr>\n",
       "    <tr>\n",
       "      <th>1</th>\n",
       "      <td>1</td>\n",
       "      <td>2</td>\n",
       "      <td>0.02500</td>\n",
       "    </tr>\n",
       "    <tr>\n",
       "      <th>2</th>\n",
       "      <td>1</td>\n",
       "      <td>3</td>\n",
       "      <td>0.05775</td>\n",
       "    </tr>\n",
       "    <tr>\n",
       "      <th>3</th>\n",
       "      <td>1</td>\n",
       "      <td>4</td>\n",
       "      <td>0.09675</td>\n",
       "    </tr>\n",
       "    <tr>\n",
       "      <th>4</th>\n",
       "      <td>1</td>\n",
       "      <td>5</td>\n",
       "      <td>0.14675</td>\n",
       "    </tr>\n",
       "  </tbody>\n",
       "</table>\n",
       "</div>"
      ],
      "text/plain": [
       "   movieId  tagId  relevance\n",
       "0        1      1    0.02500\n",
       "1        1      2    0.02500\n",
       "2        1      3    0.05775\n",
       "3        1      4    0.09675\n",
       "4        1      5    0.14675"
      ]
     },
     "execution_count": 3,
     "metadata": {},
     "output_type": "execute_result"
    }
   ],
   "source": [
    "scores.head()"
   ]
  },
  {
   "cell_type": "code",
   "execution_count": 4,
   "id": "19c753ee",
   "metadata": {},
   "outputs": [
    {
     "data": {
      "text/html": [
       "<div>\n",
       "<style scoped>\n",
       "    .dataframe tbody tr th:only-of-type {\n",
       "        vertical-align: middle;\n",
       "    }\n",
       "\n",
       "    .dataframe tbody tr th {\n",
       "        vertical-align: top;\n",
       "    }\n",
       "\n",
       "    .dataframe thead th {\n",
       "        text-align: right;\n",
       "    }\n",
       "</style>\n",
       "<table border=\"1\" class=\"dataframe\">\n",
       "  <thead>\n",
       "    <tr style=\"text-align: right;\">\n",
       "      <th></th>\n",
       "      <th>movieId</th>\n",
       "      <th>relevance</th>\n",
       "    </tr>\n",
       "  </thead>\n",
       "  <tbody>\n",
       "    <tr>\n",
       "      <th>0</th>\n",
       "      <td>1</td>\n",
       "      <td>0.160223</td>\n",
       "    </tr>\n",
       "    <tr>\n",
       "      <th>1</th>\n",
       "      <td>2</td>\n",
       "      <td>0.119486</td>\n",
       "    </tr>\n",
       "    <tr>\n",
       "      <th>2</th>\n",
       "      <td>3</td>\n",
       "      <td>0.092403</td>\n",
       "    </tr>\n",
       "    <tr>\n",
       "      <th>3</th>\n",
       "      <td>4</td>\n",
       "      <td>0.085427</td>\n",
       "    </tr>\n",
       "    <tr>\n",
       "      <th>4</th>\n",
       "      <td>5</td>\n",
       "      <td>0.098853</td>\n",
       "    </tr>\n",
       "  </tbody>\n",
       "</table>\n",
       "</div>"
      ],
      "text/plain": [
       "   movieId  relevance\n",
       "0        1   0.160223\n",
       "1        2   0.119486\n",
       "2        3   0.092403\n",
       "3        4   0.085427\n",
       "4        5   0.098853"
      ]
     },
     "execution_count": 4,
     "metadata": {},
     "output_type": "execute_result"
    }
   ],
   "source": [
    "mean_relevance = scores[['movieId', 'relevance']].groupby('movieId').mean().reset_index()\n",
    "mean_relevance.head()"
   ]
  },
  {
   "cell_type": "code",
   "execution_count": 5,
   "id": "c97fe854",
   "metadata": {},
   "outputs": [],
   "source": [
    "movie_rating = pd.read_csv('movie_rating.csv')"
   ]
  },
  {
   "cell_type": "code",
   "execution_count": 6,
   "id": "92822c13",
   "metadata": {},
   "outputs": [
    {
     "data": {
      "text/html": [
       "<div>\n",
       "<style scoped>\n",
       "    .dataframe tbody tr th:only-of-type {\n",
       "        vertical-align: middle;\n",
       "    }\n",
       "\n",
       "    .dataframe tbody tr th {\n",
       "        vertical-align: top;\n",
       "    }\n",
       "\n",
       "    .dataframe thead th {\n",
       "        text-align: right;\n",
       "    }\n",
       "</style>\n",
       "<table border=\"1\" class=\"dataframe\">\n",
       "  <thead>\n",
       "    <tr style=\"text-align: right;\">\n",
       "      <th></th>\n",
       "      <th>Unnamed: 0</th>\n",
       "      <th>movieId</th>\n",
       "      <th>rating</th>\n",
       "      <th>title</th>\n",
       "      <th>genres</th>\n",
       "      <th>num ratings</th>\n",
       "    </tr>\n",
       "  </thead>\n",
       "  <tbody>\n",
       "    <tr>\n",
       "      <th>0</th>\n",
       "      <td>0</td>\n",
       "      <td>1</td>\n",
       "      <td>3.921240</td>\n",
       "      <td>Toy Story (1995)</td>\n",
       "      <td>Adventure|Animation|Children|Comedy|Fantasy</td>\n",
       "      <td>49695</td>\n",
       "    </tr>\n",
       "    <tr>\n",
       "      <th>1</th>\n",
       "      <td>1</td>\n",
       "      <td>2</td>\n",
       "      <td>3.211977</td>\n",
       "      <td>Jumanji (1995)</td>\n",
       "      <td>Adventure|Children|Fantasy</td>\n",
       "      <td>22243</td>\n",
       "    </tr>\n",
       "    <tr>\n",
       "      <th>2</th>\n",
       "      <td>2</td>\n",
       "      <td>3</td>\n",
       "      <td>3.151040</td>\n",
       "      <td>Grumpier Old Men (1995)</td>\n",
       "      <td>Comedy|Romance</td>\n",
       "      <td>12735</td>\n",
       "    </tr>\n",
       "    <tr>\n",
       "      <th>3</th>\n",
       "      <td>3</td>\n",
       "      <td>4</td>\n",
       "      <td>2.861393</td>\n",
       "      <td>Waiting to Exhale (1995)</td>\n",
       "      <td>Comedy|Drama|Romance</td>\n",
       "      <td>2756</td>\n",
       "    </tr>\n",
       "    <tr>\n",
       "      <th>4</th>\n",
       "      <td>4</td>\n",
       "      <td>5</td>\n",
       "      <td>3.064592</td>\n",
       "      <td>Father of the Bride Part II (1995)</td>\n",
       "      <td>Comedy</td>\n",
       "      <td>12161</td>\n",
       "    </tr>\n",
       "  </tbody>\n",
       "</table>\n",
       "</div>"
      ],
      "text/plain": [
       "   Unnamed: 0  movieId    rating                               title  \\\n",
       "0           0        1  3.921240                    Toy Story (1995)   \n",
       "1           1        2  3.211977                      Jumanji (1995)   \n",
       "2           2        3  3.151040             Grumpier Old Men (1995)   \n",
       "3           3        4  2.861393            Waiting to Exhale (1995)   \n",
       "4           4        5  3.064592  Father of the Bride Part II (1995)   \n",
       "\n",
       "                                        genres  num ratings  \n",
       "0  Adventure|Animation|Children|Comedy|Fantasy        49695  \n",
       "1                   Adventure|Children|Fantasy        22243  \n",
       "2                               Comedy|Romance        12735  \n",
       "3                         Comedy|Drama|Romance         2756  \n",
       "4                                       Comedy        12161  "
      ]
     },
     "execution_count": 6,
     "metadata": {},
     "output_type": "execute_result"
    }
   ],
   "source": [
    "movie_rating.head()"
   ]
  },
  {
   "cell_type": "code",
   "execution_count": 7,
   "id": "b5893de6",
   "metadata": {},
   "outputs": [
    {
     "data": {
      "text/html": [
       "<div>\n",
       "<style scoped>\n",
       "    .dataframe tbody tr th:only-of-type {\n",
       "        vertical-align: middle;\n",
       "    }\n",
       "\n",
       "    .dataframe tbody tr th {\n",
       "        vertical-align: top;\n",
       "    }\n",
       "\n",
       "    .dataframe thead th {\n",
       "        text-align: right;\n",
       "    }\n",
       "</style>\n",
       "<table border=\"1\" class=\"dataframe\">\n",
       "  <thead>\n",
       "    <tr style=\"text-align: right;\">\n",
       "      <th></th>\n",
       "      <th>movieId</th>\n",
       "      <th>rating</th>\n",
       "      <th>title</th>\n",
       "      <th>genres</th>\n",
       "      <th>relevance</th>\n",
       "    </tr>\n",
       "  </thead>\n",
       "  <tbody>\n",
       "    <tr>\n",
       "      <th>0</th>\n",
       "      <td>1</td>\n",
       "      <td>3.921240</td>\n",
       "      <td>Toy Story (1995)</td>\n",
       "      <td>Adventure|Animation|Children|Comedy|Fantasy</td>\n",
       "      <td>0.160223</td>\n",
       "    </tr>\n",
       "    <tr>\n",
       "      <th>1</th>\n",
       "      <td>2</td>\n",
       "      <td>3.211977</td>\n",
       "      <td>Jumanji (1995)</td>\n",
       "      <td>Adventure|Children|Fantasy</td>\n",
       "      <td>0.119486</td>\n",
       "    </tr>\n",
       "    <tr>\n",
       "      <th>2</th>\n",
       "      <td>3</td>\n",
       "      <td>3.151040</td>\n",
       "      <td>Grumpier Old Men (1995)</td>\n",
       "      <td>Comedy|Romance</td>\n",
       "      <td>0.092403</td>\n",
       "    </tr>\n",
       "    <tr>\n",
       "      <th>3</th>\n",
       "      <td>4</td>\n",
       "      <td>2.861393</td>\n",
       "      <td>Waiting to Exhale (1995)</td>\n",
       "      <td>Comedy|Drama|Romance</td>\n",
       "      <td>0.085427</td>\n",
       "    </tr>\n",
       "    <tr>\n",
       "      <th>4</th>\n",
       "      <td>5</td>\n",
       "      <td>3.064592</td>\n",
       "      <td>Father of the Bride Part II (1995)</td>\n",
       "      <td>Comedy</td>\n",
       "      <td>0.098853</td>\n",
       "    </tr>\n",
       "  </tbody>\n",
       "</table>\n",
       "</div>"
      ],
      "text/plain": [
       "   movieId    rating                               title  \\\n",
       "0        1  3.921240                    Toy Story (1995)   \n",
       "1        2  3.211977                      Jumanji (1995)   \n",
       "2        3  3.151040             Grumpier Old Men (1995)   \n",
       "3        4  2.861393            Waiting to Exhale (1995)   \n",
       "4        5  3.064592  Father of the Bride Part II (1995)   \n",
       "\n",
       "                                        genres  relevance  \n",
       "0  Adventure|Animation|Children|Comedy|Fantasy   0.160223  \n",
       "1                   Adventure|Children|Fantasy   0.119486  \n",
       "2                               Comedy|Romance   0.092403  \n",
       "3                         Comedy|Drama|Romance   0.085427  \n",
       "4                                       Comedy   0.098853  "
      ]
     },
     "execution_count": 7,
     "metadata": {},
     "output_type": "execute_result"
    }
   ],
   "source": [
    "df = movie_rating.merge(mean_relevance, on = 'movieId')[['movieId', 'rating', 'title', 'genres', 'relevance']]\n",
    "df.head()"
   ]
  },
  {
   "cell_type": "code",
   "execution_count": 8,
   "id": "187d6319",
   "metadata": {},
   "outputs": [],
   "source": [
    "df_copy = df.copy()\n",
    "for i in range(len(df_copy['genres'])):\n",
    "    if '|' in df_copy['genres'][i]:\n",
    "        df_copy.drop(index = i, inplace = True)"
   ]
  },
  {
   "cell_type": "code",
   "execution_count": 9,
   "id": "b04066c0",
   "metadata": {},
   "outputs": [
    {
     "data": {
      "text/html": [
       "<div>\n",
       "<style scoped>\n",
       "    .dataframe tbody tr th:only-of-type {\n",
       "        vertical-align: middle;\n",
       "    }\n",
       "\n",
       "    .dataframe tbody tr th {\n",
       "        vertical-align: top;\n",
       "    }\n",
       "\n",
       "    .dataframe thead th {\n",
       "        text-align: right;\n",
       "    }\n",
       "</style>\n",
       "<table border=\"1\" class=\"dataframe\">\n",
       "  <thead>\n",
       "    <tr style=\"text-align: right;\">\n",
       "      <th></th>\n",
       "      <th>movieId</th>\n",
       "      <th>rating</th>\n",
       "      <th>title</th>\n",
       "      <th>genres</th>\n",
       "      <th>relevance</th>\n",
       "    </tr>\n",
       "  </thead>\n",
       "  <tbody>\n",
       "    <tr>\n",
       "      <th>4</th>\n",
       "      <td>5</td>\n",
       "      <td>3.064592</td>\n",
       "      <td>Father of the Bride Part II (1995)</td>\n",
       "      <td>Comedy</td>\n",
       "      <td>0.098853</td>\n",
       "    </tr>\n",
       "    <tr>\n",
       "      <th>8</th>\n",
       "      <td>9</td>\n",
       "      <td>3.004924</td>\n",
       "      <td>Sudden Death (1995)</td>\n",
       "      <td>Action</td>\n",
       "      <td>0.076288</td>\n",
       "    </tr>\n",
       "    <tr>\n",
       "      <th>13</th>\n",
       "      <td>14</td>\n",
       "      <td>3.432082</td>\n",
       "      <td>Nixon (1995)</td>\n",
       "      <td>Drama</td>\n",
       "      <td>0.126963</td>\n",
       "    </tr>\n",
       "    <tr>\n",
       "      <th>17</th>\n",
       "      <td>18</td>\n",
       "      <td>3.373631</td>\n",
       "      <td>Four Rooms (1995)</td>\n",
       "      <td>Comedy</td>\n",
       "      <td>0.127113</td>\n",
       "    </tr>\n",
       "    <tr>\n",
       "      <th>18</th>\n",
       "      <td>19</td>\n",
       "      <td>2.607412</td>\n",
       "      <td>Ace Ventura: When Nature Calls (1995)</td>\n",
       "      <td>Comedy</td>\n",
       "      <td>0.109521</td>\n",
       "    </tr>\n",
       "    <tr>\n",
       "      <th>...</th>\n",
       "      <td>...</td>\n",
       "      <td>...</td>\n",
       "      <td>...</td>\n",
       "      <td>...</td>\n",
       "      <td>...</td>\n",
       "    </tr>\n",
       "    <tr>\n",
       "      <th>10354</th>\n",
       "      <td>129737</td>\n",
       "      <td>2.500000</td>\n",
       "      <td>Unfinished Business (2015)</td>\n",
       "      <td>Comedy</td>\n",
       "      <td>0.103683</td>\n",
       "    </tr>\n",
       "    <tr>\n",
       "      <th>10356</th>\n",
       "      <td>129781</td>\n",
       "      <td>4.500000</td>\n",
       "      <td>About Alex (2014)</td>\n",
       "      <td>Drama</td>\n",
       "      <td>0.051083</td>\n",
       "    </tr>\n",
       "    <tr>\n",
       "      <th>10367</th>\n",
       "      <td>131013</td>\n",
       "      <td>2.500000</td>\n",
       "      <td>Get Hard (2015)</td>\n",
       "      <td>Comedy</td>\n",
       "      <td>0.097136</td>\n",
       "    </tr>\n",
       "    <tr>\n",
       "      <th>10368</th>\n",
       "      <td>131168</td>\n",
       "      <td>3.500000</td>\n",
       "      <td>Phoenix (2014)</td>\n",
       "      <td>Drama</td>\n",
       "      <td>0.136695</td>\n",
       "    </tr>\n",
       "    <tr>\n",
       "      <th>10369</th>\n",
       "      <td>131170</td>\n",
       "      <td>3.500000</td>\n",
       "      <td>Parallels (2015)</td>\n",
       "      <td>Sci-Fi</td>\n",
       "      <td>0.162884</td>\n",
       "    </tr>\n",
       "  </tbody>\n",
       "</table>\n",
       "<p>3228 rows × 5 columns</p>\n",
       "</div>"
      ],
      "text/plain": [
       "       movieId    rating                                  title  genres  \\\n",
       "4            5  3.064592     Father of the Bride Part II (1995)  Comedy   \n",
       "8            9  3.004924                    Sudden Death (1995)  Action   \n",
       "13          14  3.432082                           Nixon (1995)   Drama   \n",
       "17          18  3.373631                      Four Rooms (1995)  Comedy   \n",
       "18          19  2.607412  Ace Ventura: When Nature Calls (1995)  Comedy   \n",
       "...        ...       ...                                    ...     ...   \n",
       "10354   129737  2.500000             Unfinished Business (2015)  Comedy   \n",
       "10356   129781  4.500000                      About Alex (2014)   Drama   \n",
       "10367   131013  2.500000                        Get Hard (2015)  Comedy   \n",
       "10368   131168  3.500000                         Phoenix (2014)   Drama   \n",
       "10369   131170  3.500000                       Parallels (2015)  Sci-Fi   \n",
       "\n",
       "       relevance  \n",
       "4       0.098853  \n",
       "8       0.076288  \n",
       "13      0.126963  \n",
       "17      0.127113  \n",
       "18      0.109521  \n",
       "...          ...  \n",
       "10354   0.103683  \n",
       "10356   0.051083  \n",
       "10367   0.097136  \n",
       "10368   0.136695  \n",
       "10369   0.162884  \n",
       "\n",
       "[3228 rows x 5 columns]"
      ]
     },
     "execution_count": 9,
     "metadata": {},
     "output_type": "execute_result"
    }
   ],
   "source": [
    "df_copy"
   ]
  },
  {
   "cell_type": "code",
   "execution_count": 10,
   "id": "5cde1c1b",
   "metadata": {},
   "outputs": [],
   "source": [
    "for i in range(len(df)):\n",
    "    if '|' in df.loc[i]['genres']:\n",
    "        list_genre = df.loc[i]['genres'].split('|')\n",
    "        list_rating = []\n",
    "        list_movieId = []\n",
    "        list_title = []\n",
    "        list_relevance = []\n",
    "        for i in range(len(list_genre)):\n",
    "            list_rating.append(df.loc[i]['rating'])\n",
    "            list_movieId.append(df.loc[i]['movieId'])\n",
    "            list_title.append(df.loc[i]['title'])\n",
    "            list_relevance.append(df.loc[i]['relevance'])\n",
    "        dict = {'movieId' : list_movieId, 'rating': list_rating , 'title' : list_title, 'genres' : list_genre, 'relevance': list_relevance}\n",
    "        df0 = pd.DataFrame(dict)\n",
    "        df_copy = pd.concat([df_copy, df0], ignore_index = True)   "
   ]
  },
  {
   "cell_type": "code",
   "execution_count": 11,
   "id": "3e450b9f",
   "metadata": {
    "scrolled": true
   },
   "outputs": [
    {
     "data": {
      "text/plain": [
       "genres\n",
       "Drama                 5032\n",
       "Comedy                3736\n",
       "Thriller              2010\n",
       "Romance               1752\n",
       "Action                1720\n",
       "Crime                 1250\n",
       "Adventure             1176\n",
       "Horror                1025\n",
       "Sci-Fi                 909\n",
       "Fantasy                695\n",
       "Children               620\n",
       "Mystery                615\n",
       "Documentary            466\n",
       "Animation              458\n",
       "War                    440\n",
       "Musical                401\n",
       "Western                219\n",
       "IMAX                   164\n",
       "Film-Noir              112\n",
       "(no genres listed)       1\n",
       "Name: count, dtype: int64"
      ]
     },
     "execution_count": 11,
     "metadata": {},
     "output_type": "execute_result"
    }
   ],
   "source": [
    "df_copy['genres'].value_counts()"
   ]
  },
  {
   "cell_type": "code",
   "execution_count": 12,
   "id": "0a4eb61a",
   "metadata": {
    "scrolled": true
   },
   "outputs": [
    {
     "data": {
      "text/plain": [
       "genres\n",
       "Drama          5032\n",
       "Comedy         3736\n",
       "Thriller       2010\n",
       "Romance        1752\n",
       "Action         1720\n",
       "Crime          1250\n",
       "Adventure      1176\n",
       "Horror         1025\n",
       "Sci-Fi          909\n",
       "Fantasy         695\n",
       "Children        620\n",
       "Mystery         615\n",
       "Documentary     466\n",
       "Animation       458\n",
       "War             440\n",
       "Musical         401\n",
       "Western         219\n",
       "IMAX            164\n",
       "Film-Noir       112\n",
       "Name: count, dtype: int64"
      ]
     },
     "execution_count": 12,
     "metadata": {},
     "output_type": "execute_result"
    }
   ],
   "source": [
    "df_copy = df_copy[df_copy['genres'] != '(no genres listed)']\n",
    "df_copy['genres'].value_counts()"
   ]
  },
  {
   "cell_type": "code",
   "execution_count": 13,
   "id": "4793cda0",
   "metadata": {},
   "outputs": [
    {
     "data": {
      "text/html": [
       "<div>\n",
       "<style scoped>\n",
       "    .dataframe tbody tr th:only-of-type {\n",
       "        vertical-align: middle;\n",
       "    }\n",
       "\n",
       "    .dataframe tbody tr th {\n",
       "        vertical-align: top;\n",
       "    }\n",
       "\n",
       "    .dataframe thead th {\n",
       "        text-align: right;\n",
       "    }\n",
       "</style>\n",
       "<table border=\"1\" class=\"dataframe\">\n",
       "  <thead>\n",
       "    <tr style=\"text-align: right;\">\n",
       "      <th></th>\n",
       "      <th>movieId</th>\n",
       "      <th>rating</th>\n",
       "      <th>title</th>\n",
       "      <th>genres</th>\n",
       "      <th>relevance</th>\n",
       "    </tr>\n",
       "  </thead>\n",
       "  <tbody>\n",
       "    <tr>\n",
       "      <th>0</th>\n",
       "      <td>5</td>\n",
       "      <td>3.064592</td>\n",
       "      <td>Father of the Bride Part II (1995)</td>\n",
       "      <td>Comedy</td>\n",
       "      <td>0.098853</td>\n",
       "    </tr>\n",
       "    <tr>\n",
       "      <th>1</th>\n",
       "      <td>9</td>\n",
       "      <td>3.004924</td>\n",
       "      <td>Sudden Death (1995)</td>\n",
       "      <td>Action</td>\n",
       "      <td>0.076288</td>\n",
       "    </tr>\n",
       "    <tr>\n",
       "      <th>2</th>\n",
       "      <td>14</td>\n",
       "      <td>3.432082</td>\n",
       "      <td>Nixon (1995)</td>\n",
       "      <td>Drama</td>\n",
       "      <td>0.126963</td>\n",
       "    </tr>\n",
       "    <tr>\n",
       "      <th>3</th>\n",
       "      <td>18</td>\n",
       "      <td>3.373631</td>\n",
       "      <td>Four Rooms (1995)</td>\n",
       "      <td>Comedy</td>\n",
       "      <td>0.127113</td>\n",
       "    </tr>\n",
       "    <tr>\n",
       "      <th>4</th>\n",
       "      <td>19</td>\n",
       "      <td>2.607412</td>\n",
       "      <td>Ace Ventura: When Nature Calls (1995)</td>\n",
       "      <td>Comedy</td>\n",
       "      <td>0.109521</td>\n",
       "    </tr>\n",
       "    <tr>\n",
       "      <th>...</th>\n",
       "      <td>...</td>\n",
       "      <td>...</td>\n",
       "      <td>...</td>\n",
       "      <td>...</td>\n",
       "      <td>...</td>\n",
       "    </tr>\n",
       "    <tr>\n",
       "      <th>22796</th>\n",
       "      <td>1</td>\n",
       "      <td>3.921240</td>\n",
       "      <td>Toy Story (1995)</td>\n",
       "      <td>Action</td>\n",
       "      <td>0.160223</td>\n",
       "    </tr>\n",
       "    <tr>\n",
       "      <th>22797</th>\n",
       "      <td>2</td>\n",
       "      <td>3.211977</td>\n",
       "      <td>Jumanji (1995)</td>\n",
       "      <td>Thriller</td>\n",
       "      <td>0.119486</td>\n",
       "    </tr>\n",
       "    <tr>\n",
       "      <th>22798</th>\n",
       "      <td>1</td>\n",
       "      <td>3.921240</td>\n",
       "      <td>Toy Story (1995)</td>\n",
       "      <td>Horror</td>\n",
       "      <td>0.160223</td>\n",
       "    </tr>\n",
       "    <tr>\n",
       "      <th>22799</th>\n",
       "      <td>2</td>\n",
       "      <td>3.211977</td>\n",
       "      <td>Jumanji (1995)</td>\n",
       "      <td>Romance</td>\n",
       "      <td>0.119486</td>\n",
       "    </tr>\n",
       "    <tr>\n",
       "      <th>22800</th>\n",
       "      <td>3</td>\n",
       "      <td>3.151040</td>\n",
       "      <td>Grumpier Old Men (1995)</td>\n",
       "      <td>Sci-Fi</td>\n",
       "      <td>0.092403</td>\n",
       "    </tr>\n",
       "  </tbody>\n",
       "</table>\n",
       "<p>22800 rows × 5 columns</p>\n",
       "</div>"
      ],
      "text/plain": [
       "       movieId    rating                                  title    genres  \\\n",
       "0            5  3.064592     Father of the Bride Part II (1995)    Comedy   \n",
       "1            9  3.004924                    Sudden Death (1995)    Action   \n",
       "2           14  3.432082                           Nixon (1995)     Drama   \n",
       "3           18  3.373631                      Four Rooms (1995)    Comedy   \n",
       "4           19  2.607412  Ace Ventura: When Nature Calls (1995)    Comedy   \n",
       "...        ...       ...                                    ...       ...   \n",
       "22796        1  3.921240                       Toy Story (1995)    Action   \n",
       "22797        2  3.211977                         Jumanji (1995)  Thriller   \n",
       "22798        1  3.921240                       Toy Story (1995)    Horror   \n",
       "22799        2  3.211977                         Jumanji (1995)   Romance   \n",
       "22800        3  3.151040                Grumpier Old Men (1995)    Sci-Fi   \n",
       "\n",
       "       relevance  \n",
       "0       0.098853  \n",
       "1       0.076288  \n",
       "2       0.126963  \n",
       "3       0.127113  \n",
       "4       0.109521  \n",
       "...          ...  \n",
       "22796   0.160223  \n",
       "22797   0.119486  \n",
       "22798   0.160223  \n",
       "22799   0.119486  \n",
       "22800   0.092403  \n",
       "\n",
       "[22800 rows x 5 columns]"
      ]
     },
     "execution_count": 13,
     "metadata": {},
     "output_type": "execute_result"
    }
   ],
   "source": [
    "df_copy"
   ]
  },
  {
   "cell_type": "markdown",
   "id": "61fd40cf",
   "metadata": {},
   "source": [
    "## 2. Training K-Mean model"
   ]
  },
  {
   "cell_type": "code",
   "execution_count": 14,
   "id": "4093d015",
   "metadata": {},
   "outputs": [],
   "source": [
    "mapper = {'Drama' : 0, 'Comedy' : 1, 'Thriller' : 2, 'Romance' : 3, 'Action' : 4, 'Crime' : 5,\n",
    "         'Adventure' : 6, 'Horror' : 7, 'Sci-Fi' : 8, 'Fantasy' : 9, 'Children' : 10, 'Mystery' : 11,\n",
    "         'Documentary' : 12, 'Animation': 13, 'War' : 14, 'Musical' : 15, 'Western' : 16, 'IMAX' : 17,\n",
    "         'Film-Noir' : 18}\n",
    "# df_copy['genres'] = df['genres'].map(mapper)"
   ]
  },
  {
   "cell_type": "code",
   "execution_count": 15,
   "id": "851176cb",
   "metadata": {},
   "outputs": [
    {
     "data": {
      "text/html": [
       "<div>\n",
       "<style scoped>\n",
       "    .dataframe tbody tr th:only-of-type {\n",
       "        vertical-align: middle;\n",
       "    }\n",
       "\n",
       "    .dataframe tbody tr th {\n",
       "        vertical-align: top;\n",
       "    }\n",
       "\n",
       "    .dataframe thead th {\n",
       "        text-align: right;\n",
       "    }\n",
       "</style>\n",
       "<table border=\"1\" class=\"dataframe\">\n",
       "  <thead>\n",
       "    <tr style=\"text-align: right;\">\n",
       "      <th></th>\n",
       "      <th>movieId</th>\n",
       "      <th>rating</th>\n",
       "      <th>title</th>\n",
       "      <th>genres</th>\n",
       "      <th>relevance</th>\n",
       "    </tr>\n",
       "  </thead>\n",
       "  <tbody>\n",
       "    <tr>\n",
       "      <th>0</th>\n",
       "      <td>5</td>\n",
       "      <td>3.064592</td>\n",
       "      <td>Father of the Bride Part II (1995)</td>\n",
       "      <td>Comedy</td>\n",
       "      <td>0.098853</td>\n",
       "    </tr>\n",
       "    <tr>\n",
       "      <th>1</th>\n",
       "      <td>9</td>\n",
       "      <td>3.004924</td>\n",
       "      <td>Sudden Death (1995)</td>\n",
       "      <td>Action</td>\n",
       "      <td>0.076288</td>\n",
       "    </tr>\n",
       "    <tr>\n",
       "      <th>2</th>\n",
       "      <td>14</td>\n",
       "      <td>3.432082</td>\n",
       "      <td>Nixon (1995)</td>\n",
       "      <td>Drama</td>\n",
       "      <td>0.126963</td>\n",
       "    </tr>\n",
       "    <tr>\n",
       "      <th>3</th>\n",
       "      <td>18</td>\n",
       "      <td>3.373631</td>\n",
       "      <td>Four Rooms (1995)</td>\n",
       "      <td>Comedy</td>\n",
       "      <td>0.127113</td>\n",
       "    </tr>\n",
       "    <tr>\n",
       "      <th>4</th>\n",
       "      <td>19</td>\n",
       "      <td>2.607412</td>\n",
       "      <td>Ace Ventura: When Nature Calls (1995)</td>\n",
       "      <td>Comedy</td>\n",
       "      <td>0.109521</td>\n",
       "    </tr>\n",
       "    <tr>\n",
       "      <th>...</th>\n",
       "      <td>...</td>\n",
       "      <td>...</td>\n",
       "      <td>...</td>\n",
       "      <td>...</td>\n",
       "      <td>...</td>\n",
       "    </tr>\n",
       "    <tr>\n",
       "      <th>22796</th>\n",
       "      <td>1</td>\n",
       "      <td>3.921240</td>\n",
       "      <td>Toy Story (1995)</td>\n",
       "      <td>Action</td>\n",
       "      <td>0.160223</td>\n",
       "    </tr>\n",
       "    <tr>\n",
       "      <th>22797</th>\n",
       "      <td>2</td>\n",
       "      <td>3.211977</td>\n",
       "      <td>Jumanji (1995)</td>\n",
       "      <td>Thriller</td>\n",
       "      <td>0.119486</td>\n",
       "    </tr>\n",
       "    <tr>\n",
       "      <th>22798</th>\n",
       "      <td>1</td>\n",
       "      <td>3.921240</td>\n",
       "      <td>Toy Story (1995)</td>\n",
       "      <td>Horror</td>\n",
       "      <td>0.160223</td>\n",
       "    </tr>\n",
       "    <tr>\n",
       "      <th>22799</th>\n",
       "      <td>2</td>\n",
       "      <td>3.211977</td>\n",
       "      <td>Jumanji (1995)</td>\n",
       "      <td>Romance</td>\n",
       "      <td>0.119486</td>\n",
       "    </tr>\n",
       "    <tr>\n",
       "      <th>22800</th>\n",
       "      <td>3</td>\n",
       "      <td>3.151040</td>\n",
       "      <td>Grumpier Old Men (1995)</td>\n",
       "      <td>Sci-Fi</td>\n",
       "      <td>0.092403</td>\n",
       "    </tr>\n",
       "  </tbody>\n",
       "</table>\n",
       "<p>22800 rows × 5 columns</p>\n",
       "</div>"
      ],
      "text/plain": [
       "       movieId    rating                                  title    genres  \\\n",
       "0            5  3.064592     Father of the Bride Part II (1995)    Comedy   \n",
       "1            9  3.004924                    Sudden Death (1995)    Action   \n",
       "2           14  3.432082                           Nixon (1995)     Drama   \n",
       "3           18  3.373631                      Four Rooms (1995)    Comedy   \n",
       "4           19  2.607412  Ace Ventura: When Nature Calls (1995)    Comedy   \n",
       "...        ...       ...                                    ...       ...   \n",
       "22796        1  3.921240                       Toy Story (1995)    Action   \n",
       "22797        2  3.211977                         Jumanji (1995)  Thriller   \n",
       "22798        1  3.921240                       Toy Story (1995)    Horror   \n",
       "22799        2  3.211977                         Jumanji (1995)   Romance   \n",
       "22800        3  3.151040                Grumpier Old Men (1995)    Sci-Fi   \n",
       "\n",
       "       relevance  \n",
       "0       0.098853  \n",
       "1       0.076288  \n",
       "2       0.126963  \n",
       "3       0.127113  \n",
       "4       0.109521  \n",
       "...          ...  \n",
       "22796   0.160223  \n",
       "22797   0.119486  \n",
       "22798   0.160223  \n",
       "22799   0.119486  \n",
       "22800   0.092403  \n",
       "\n",
       "[22800 rows x 5 columns]"
      ]
     },
     "execution_count": 15,
     "metadata": {},
     "output_type": "execute_result"
    }
   ],
   "source": [
    "df_copy"
   ]
  },
  {
   "cell_type": "code",
   "execution_count": 16,
   "id": "cd25dc26",
   "metadata": {},
   "outputs": [],
   "source": [
    "df_copy['genres'] = df_copy['genres'].str.strip().map(mapper)"
   ]
  },
  {
   "cell_type": "code",
   "execution_count": 17,
   "id": "afd1d95f",
   "metadata": {},
   "outputs": [
    {
     "data": {
      "text/html": [
       "<div>\n",
       "<style scoped>\n",
       "    .dataframe tbody tr th:only-of-type {\n",
       "        vertical-align: middle;\n",
       "    }\n",
       "\n",
       "    .dataframe tbody tr th {\n",
       "        vertical-align: top;\n",
       "    }\n",
       "\n",
       "    .dataframe thead th {\n",
       "        text-align: right;\n",
       "    }\n",
       "</style>\n",
       "<table border=\"1\" class=\"dataframe\">\n",
       "  <thead>\n",
       "    <tr style=\"text-align: right;\">\n",
       "      <th></th>\n",
       "      <th>movieId</th>\n",
       "      <th>rating</th>\n",
       "      <th>title</th>\n",
       "      <th>genres</th>\n",
       "      <th>relevance</th>\n",
       "    </tr>\n",
       "  </thead>\n",
       "  <tbody>\n",
       "    <tr>\n",
       "      <th>0</th>\n",
       "      <td>5</td>\n",
       "      <td>3.064592</td>\n",
       "      <td>Father of the Bride Part II (1995)</td>\n",
       "      <td>1</td>\n",
       "      <td>0.098853</td>\n",
       "    </tr>\n",
       "    <tr>\n",
       "      <th>1</th>\n",
       "      <td>9</td>\n",
       "      <td>3.004924</td>\n",
       "      <td>Sudden Death (1995)</td>\n",
       "      <td>4</td>\n",
       "      <td>0.076288</td>\n",
       "    </tr>\n",
       "    <tr>\n",
       "      <th>2</th>\n",
       "      <td>14</td>\n",
       "      <td>3.432082</td>\n",
       "      <td>Nixon (1995)</td>\n",
       "      <td>0</td>\n",
       "      <td>0.126963</td>\n",
       "    </tr>\n",
       "    <tr>\n",
       "      <th>3</th>\n",
       "      <td>18</td>\n",
       "      <td>3.373631</td>\n",
       "      <td>Four Rooms (1995)</td>\n",
       "      <td>1</td>\n",
       "      <td>0.127113</td>\n",
       "    </tr>\n",
       "    <tr>\n",
       "      <th>4</th>\n",
       "      <td>19</td>\n",
       "      <td>2.607412</td>\n",
       "      <td>Ace Ventura: When Nature Calls (1995)</td>\n",
       "      <td>1</td>\n",
       "      <td>0.109521</td>\n",
       "    </tr>\n",
       "  </tbody>\n",
       "</table>\n",
       "</div>"
      ],
      "text/plain": [
       "   movieId    rating                                  title  genres  relevance\n",
       "0        5  3.064592     Father of the Bride Part II (1995)       1   0.098853\n",
       "1        9  3.004924                    Sudden Death (1995)       4   0.076288\n",
       "2       14  3.432082                           Nixon (1995)       0   0.126963\n",
       "3       18  3.373631                      Four Rooms (1995)       1   0.127113\n",
       "4       19  2.607412  Ace Ventura: When Nature Calls (1995)       1   0.109521"
      ]
     },
     "execution_count": 17,
     "metadata": {},
     "output_type": "execute_result"
    }
   ],
   "source": [
    "df_copy.head()"
   ]
  },
  {
   "cell_type": "code",
   "execution_count": 18,
   "id": "85e42dd5",
   "metadata": {},
   "outputs": [
    {
     "data": {
      "text/plain": [
       "array([[3.06459173, 1.        , 0.09885306],\n",
       "       [3.00492424, 4.        , 0.07628834],\n",
       "       [3.43208236, 0.        , 0.12696321],\n",
       "       ...,\n",
       "       [3.92123956, 7.        , 0.16022252],\n",
       "       [3.2119768 , 3.        , 0.11948604],\n",
       "       [3.15104044, 8.        , 0.09240337]])"
      ]
     },
     "execution_count": 18,
     "metadata": {},
     "output_type": "execute_result"
    }
   ],
   "source": [
    "df_np = df_copy[['rating', 'genres', 'relevance']].to_numpy()\n",
    "df_np"
   ]
  },
  {
   "cell_type": "code",
   "execution_count": 19,
   "id": "8795a43d",
   "metadata": {},
   "outputs": [],
   "source": [
    "k_mean_8 = KMeans(n_clusters = 8)\n",
    "k_mean_8.fit(df_np)\n",
    "label_8 = k_mean_8.labels_"
   ]
  },
  {
   "cell_type": "code",
   "execution_count": 20,
   "id": "f813e080",
   "metadata": {},
   "outputs": [
    {
     "data": {
      "text/plain": [
       "array([0, 3, 7, ..., 2, 5, 2])"
      ]
     },
     "execution_count": 20,
     "metadata": {},
     "output_type": "execute_result"
    }
   ],
   "source": [
    "label_8"
   ]
  },
  {
   "cell_type": "code",
   "execution_count": 21,
   "id": "df270415",
   "metadata": {},
   "outputs": [
    {
     "name": "stdout",
     "output_type": "stream",
     "text": [
      "Silhouette_score of 8 clusters :  0.5821282178723116\n",
      "Calinski_harabasz_score of 8 clusters 148564.361979747\n"
     ]
    }
   ],
   "source": [
    "silhouette_score_8 = metrics.silhouette_score(df_np, label_8, metric='euclidean')\n",
    "calinski_harabasz_score_8 = metrics.calinski_harabasz_score(df_np, label_8)\n",
    "print('Silhouette_score of 8 clusters : ', silhouette_score_8)\n",
    "print('Calinski_harabasz_score of 8 clusters', calinski_harabasz_score_8)"
   ]
  },
  {
   "cell_type": "code",
   "execution_count": 22,
   "id": "0b300ad5",
   "metadata": {},
   "outputs": [],
   "source": [
    "k_mean_16 = KMeans(n_clusters = 16)\n",
    "k_mean_16.fit(df_np)\n",
    "label_16 = k_mean_16.labels_"
   ]
  },
  {
   "cell_type": "code",
   "execution_count": 23,
   "id": "0061fa8f",
   "metadata": {},
   "outputs": [
    {
     "name": "stdout",
     "output_type": "stream",
     "text": [
      "Silhouette_score of 16 clusters :  0.758245399589098\n",
      "Calinski_harabasz_score of 16 clusters 279829.9843759126\n"
     ]
    }
   ],
   "source": [
    "silhouette_score_16 = metrics.silhouette_score(df_np, label_16, metric='euclidean')\n",
    "calinski_harabasz_score_16 = metrics.calinski_harabasz_score(df_np, label_16)\n",
    "print('Silhouette_score of 16 clusters : ', silhouette_score_16)\n",
    "print('Calinski_harabasz_score of 16 clusters', calinski_harabasz_score_16)"
   ]
  },
  {
   "cell_type": "code",
   "execution_count": 24,
   "id": "500da4ea",
   "metadata": {},
   "outputs": [],
   "source": [
    "sum_distance = []\n",
    "silhouette_score = []\n",
    "calinski_harabasz_score = []\n",
    "K = range(2,15)\n",
    "for i in K:\n",
    "    k_mean_K = KMeans(n_clusters = i)\n",
    "    k_mean_K.fit(df_np)\n",
    "    label_K = k_mean_K.labels_\n",
    "    sum_distance.append(k_mean_K.inertia_)\n",
    "    silhouette_score.append(metrics.silhouette_score(df_np, label_K, metric='euclidean'))\n",
    "    calinski_harabasz_score.append(metrics.calinski_harabasz_score(df_np, label_K))\n"
   ]
  },
  {
   "cell_type": "code",
   "execution_count": 25,
   "id": "00f52c52",
   "metadata": {},
   "outputs": [
    {
     "data": {
      "text/plain": [
       "[<matplotlib.lines.Line2D at 0x178008e3fa0>]"
      ]
     },
     "execution_count": 25,
     "metadata": {},
     "output_type": "execute_result"
    },
    {
     "data": {
      "image/png": "[encoded data removed]",
      "text/plain": [
       "<Figure size 640x480 with 1 Axes>"
      ]
     },
     "metadata": {},
     "output_type": "display_data"
    }
   ],
   "source": [
    "plt.plot(K, sum_distance, '*')"
   ]
  },
  {
   "cell_type": "code",
   "execution_count": 26,
   "id": "893d699f",
   "metadata": {},
   "outputs": [
    {
     "data": {
      "text/plain": [
       "[<matplotlib.lines.Line2D at 0x178021ae860>]"
      ]
     },
     "execution_count": 26,
     "metadata": {},
     "output_type": "execute_result"
    },
    {
     "data": {
      "image/png": "[encoded data removed]",
      "text/plain": [
       "<Figure size 640x480 with 1 Axes>"
      ]
     },
     "metadata": {},
     "output_type": "display_data"
    }
   ],
   "source": [
    "plt.plot(K, silhouette_score, '+')"
   ]
  },
  {
   "cell_type": "code",
   "execution_count": 27,
   "id": "a6034193",
   "metadata": {},
   "outputs": [
    {
     "data": {
      "text/plain": [
       "[<matplotlib.lines.Line2D at 0x17802c53d60>]"
      ]
     },
     "execution_count": 27,
     "metadata": {},
     "output_type": "execute_result"
    },
    {
     "data": {
      "image/png": "[encoded data removed]",
      "text/plain": [
       "<Figure size 640x480 with 1 Axes>"
      ]
     },
     "metadata": {},
     "output_type": "display_data"
    }
   ],
   "source": [
    "plt.plot(K, calinski_harabasz_score, '*')"
   ]
  },
  {
   "cell_type": "code",
   "execution_count": 28,
   "id": "d62858fe",
   "metadata": {},
   "outputs": [],
   "source": [
    "k_mean_7 = KMeans(n_clusters = 7)\n",
    "model = k_mean_7.fit(df_np)\n",
    "result = k_mean_7.labels_"
   ]
  },
  {
   "cell_type": "code",
   "execution_count": 29,
   "id": "6f1831e1",
   "metadata": {},
   "outputs": [
    {
     "name": "stdout",
     "output_type": "stream",
     "text": [
      "Silhouette_score of 16 clusters :  0.58579276808728\n",
      "Calinski_harabasz_score of 16 clusters 141953.79964621208\n"
     ]
    }
   ],
   "source": [
    "silhouette_score_7 = metrics.silhouette_score(df_np, result, metric='euclidean')\n",
    "calinski_harabasz_score_7 = metrics.calinski_harabasz_score(df_np, result)\n",
    "print('Silhouette_score of 16 clusters : ', silhouette_score_7)\n",
    "print('Calinski_harabasz_score of 16 clusters', calinski_harabasz_score_7)"
   ]
  },
  {
   "cell_type": "code",
   "execution_count": 30,
   "id": "3d69983b",
   "metadata": {},
   "outputs": [
    {
     "data": {
      "image/png": "[encoded data removed]",
      "text/plain": [
       "<Figure size 640x480 with 1 Axes>"
      ]
     },
     "metadata": {},
     "output_type": "display_data"
    }
   ],
   "source": [
    "plt.scatter(df_np[:,0], df_np[:,1])\n",
    "plt.show()"
   ]
  },
  {
   "cell_type": "code",
   "execution_count": 31,
   "id": "3e84cd61",
   "metadata": {
    "scrolled": true
   },
   "outputs": [
    {
     "data": {
      "image/png": "[encoded data removed]",
      "text/plain": [
       "<Figure size 640x480 with 1 Axes>"
      ]
     },
     "metadata": {},
     "output_type": "display_data"
    }
   ],
   "source": [
    "color = ['red', 'lightgreen', 'lightblue', 'yellow', 'pink', 'purple', 'grey']\n",
    "for i in range(7):\n",
    "    plt.scatter(\n",
    "    df_np[result == i, 0], df_np[result == i, 1],\n",
    "    c= color[i],\n",
    "    marker='s', edgecolor='black',\n",
    "    label='cluster' + str(i)\n",
    ")\n",
    "    \n",
    "    \n",
    "plt.scatter(\n",
    "    model.cluster_centers_[:, 0], model.cluster_centers_[:, 1],\n",
    "    s=250, marker='*',\n",
    "    c='red', edgecolor='black',\n",
    "    label='centroids'\n",
    ")\n",
    "\n",
    "\n",
    "plt.legend(scatterpoints=1)\n",
    "plt.grid()\n",
    "plt.show()"
   ]
  },
  {
   "cell_type": "code",
   "execution_count": 32,
   "id": "d920b1a2",
   "metadata": {},
   "outputs": [],
   "source": [
    "df_copy['cluster'] = result"
   ]
  },
  {
   "cell_type": "markdown",
   "id": "50934cfc",
   "metadata": {},
   "source": [
    "## 3. Recommend top 5 related movies"
   ]
  },
  {
   "cell_type": "code",
   "execution_count": 129,
   "id": "575ac1ff",
   "metadata": {},
   "outputs": [],
   "source": [
    "def recommend_id_movie(movie):\n",
    "#     df_recommend = df_copy[df_copy['cluster'] == int(df_copy[df_copy['title'] == movie]['cluster'])]\n",
    "    most_popular_cluster = pd.DataFrame(df_copy[df_copy['title'] == movie]['cluster'].value_counts()).reset_index()['cluster'][0]\n",
    "    df_recommend = df_copy[df_copy['cluster'] == most_popular_cluster]\n",
    "    df_info_movie = df_copy[df_copy['title'] == movie]\n",
    "    df_info_movie = df_info_movie[df_info_movie['cluster'] == most_popular_cluster].reset_index().iloc[0]\n",
    "    df_recommend['distance'] = np.sqrt((df_recommend['rating']-float(df_info_movie['rating']))**2 + \n",
    "                                       (df_recommend['genres'] - float(df_info_movie['genres']))**2 + \n",
    "                                       (df_recommend['relevance'] - float(df_info_movie['relevance']))**2)\n",
    "    df_recommend = df_recommend[['movieId', 'distance']].groupby('movieId').mean().reset_index()\n",
    "    df_recommend.sort_values(by = 'distance', inplace = True)\n",
    "#     df_recommend = df_recommend[df_recommend['distance'] != 0]\n",
    "    df_recommend = df_recommend.head(5)\n",
    "    recommend_id = list(df_recommend['movieId'])\n",
    "    return recommend_id"
   ]
  },
  {
   "cell_type": "code",
   "execution_count": 132,
   "id": "fc489531",
   "metadata": {
    "scrolled": false
   },
   "outputs": [],
   "source": [
    "def give_inf_movie(ids):\n",
    "    list_df_movie = []\n",
    "    for id in ids:\n",
    "        list_df_movie.append(df[df['movieId'] == id])\n",
    "    movies = list_df_movie[0]\n",
    "    \n",
    "    for i in range(1, 5):\n",
    "        movies = pd.concat([movies, list_df_movie[i]], ignore_index = True)\n",
    "    return movies"
   ]
  },
  {
   "cell_type": "code",
   "execution_count": 134,
   "id": "5c39b0c2",
   "metadata": {
    "scrolled": true
   },
   "outputs": [
    {
     "name": "stdout",
     "output_type": "stream",
     "text": [
      "Enter the movie you interested in : Toy Story (1995)\n",
      "Top 5 movies you might like to watch :\n"
     ]
    },
    {
     "data": {
      "text/html": [
       "<div>\n",
       "<style scoped>\n",
       "    .dataframe tbody tr th:only-of-type {\n",
       "        vertical-align: middle;\n",
       "    }\n",
       "\n",
       "    .dataframe tbody tr th {\n",
       "        vertical-align: top;\n",
       "    }\n",
       "\n",
       "    .dataframe thead th {\n",
       "        text-align: right;\n",
       "    }\n",
       "</style>\n",
       "<table border=\"1\" class=\"dataframe\">\n",
       "  <thead>\n",
       "    <tr style=\"text-align: right;\">\n",
       "      <th></th>\n",
       "      <th>movieId</th>\n",
       "      <th>rating</th>\n",
       "      <th>title</th>\n",
       "      <th>genres</th>\n",
       "      <th>relevance</th>\n",
       "    </tr>\n",
       "  </thead>\n",
       "  <tbody>\n",
       "    <tr>\n",
       "      <th>0</th>\n",
       "      <td>6104</td>\n",
       "      <td>3.923753</td>\n",
       "      <td>Monty Python Live at the Hollywood Bowl (1982)</td>\n",
       "      <td>Comedy</td>\n",
       "      <td>0.172473</td>\n",
       "    </tr>\n",
       "    <tr>\n",
       "      <th>1</th>\n",
       "      <td>3507</td>\n",
       "      <td>3.906070</td>\n",
       "      <td>Odd Couple, The (1968)</td>\n",
       "      <td>Comedy</td>\n",
       "      <td>0.147124</td>\n",
       "    </tr>\n",
       "    <tr>\n",
       "      <th>2</th>\n",
       "      <td>2300</td>\n",
       "      <td>3.918047</td>\n",
       "      <td>Producers, The (1968)</td>\n",
       "      <td>Comedy</td>\n",
       "      <td>0.138374</td>\n",
       "    </tr>\n",
       "    <tr>\n",
       "      <th>3</th>\n",
       "      <td>1449</td>\n",
       "      <td>3.942756</td>\n",
       "      <td>Waiting for Guffman (1996)</td>\n",
       "      <td>Comedy</td>\n",
       "      <td>0.146539</td>\n",
       "    </tr>\n",
       "    <tr>\n",
       "      <th>4</th>\n",
       "      <td>2918</td>\n",
       "      <td>3.943668</td>\n",
       "      <td>Ferris Bueller's Day Off (1986)</td>\n",
       "      <td>Comedy</td>\n",
       "      <td>0.175459</td>\n",
       "    </tr>\n",
       "  </tbody>\n",
       "</table>\n",
       "</div>"
      ],
      "text/plain": [
       "   movieId    rating                                           title  genres  \\\n",
       "0     6104  3.923753  Monty Python Live at the Hollywood Bowl (1982)  Comedy   \n",
       "1     3507  3.906070                          Odd Couple, The (1968)  Comedy   \n",
       "2     2300  3.918047                           Producers, The (1968)  Comedy   \n",
       "3     1449  3.942756                      Waiting for Guffman (1996)  Comedy   \n",
       "4     2918  3.943668                 Ferris Bueller's Day Off (1986)  Comedy   \n",
       "\n",
       "   relevance  \n",
       "0   0.172473  \n",
       "1   0.147124  \n",
       "2   0.138374  \n",
       "3   0.146539  \n",
       "4   0.175459  "
      ]
     },
     "execution_count": 134,
     "metadata": {},
     "output_type": "execute_result"
    }
   ],
   "source": [
    "movie = input('Enter the movie you interested in : ')\n",
    "print('Top 5 movies you might like to watch :')\n",
    "give_inf_movie(recommend_id_movie(movie))"
   ]
  },
  {
   "cell_type": "code",
   "execution_count": null,
   "id": "18ebeba9",
   "metadata": {},
   "outputs": [],
   "source": []
  }
 ],
 "metadata": {
  "kernelspec": {
   "display_name": "Python 3 (ipykernel)",
   "language": "python",
   "name": "python3"
  },
  "language_info": {
   "codemirror_mode": {
    "name": "ipython",
    "version": 3
   },
   "file_extension": ".py",
   "mimetype": "text/x-python",
   "name": "python",
   "nbconvert_exporter": "python",
   "pygments_lexer": "ipython3",
   "version": "3.10.13"
  }
 },
 "nbformat": 4,
 "nbformat_minor": 5
}
